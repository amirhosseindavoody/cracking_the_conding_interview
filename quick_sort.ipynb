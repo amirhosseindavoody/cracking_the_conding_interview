{
 "cells": [
  {
   "cell_type": "code",
   "execution_count": 12,
   "metadata": {},
   "outputs": [
    {
     "name": "stdout",
     "output_type": "stream",
     "text": [
      "Bbcadfad < bbd\n",
      "python 10\n",
      "amirhassan 10\n",
      "amirhossein 100\n"
     ]
    }
   ],
   "source": [
    "from functools import cmp_to_key\n",
    "class Player:\n",
    "    def __init__(self, name, score):\n",
    "        self.name = name\n",
    "        self.score = score\n",
    "        \n",
    "    def __repr__(self):\n",
    "        return \"%s has scored %s\" % (self.name, self.score)\n",
    "        \n",
    "    def comparator(a, b):\n",
    "        if (a.score > b.score):\n",
    "            return -1\n",
    "        if (a.score < b.score):\n",
    "            return 1\n",
    "        if (a.score == b.score):\n",
    "            if (a.name > b.name):\n",
    "                return 1\n",
    "            if (a.name < b.name):\n",
    "                return -1\n",
    "            if (a.name == b.name):\n",
    "                return 0\n",
    "            \n",
    "        \n",
    "        \n",
    "# n = int(input())\n",
    "# data = []\n",
    "# for i in range(n):\n",
    "#     name, score = input().split()\n",
    "#     score = int(score)\n",
    "#     player = Player(name, score)\n",
    "#     data.append(player)\n",
    "    \n",
    "n = 3\n",
    "data = []\n",
    "data.append(Player('python',10))\n",
    "data.append(Player('amirhossein',100))\n",
    "data.append(Player('amirhassan',10))\n",
    "    \n",
    "data = sorted(data, key=cmp_to_key(Player.comparator))\n",
    "for i in data:\n",
    "    print(i.name, i.score)"
   ]
  }
 ],
 "metadata": {
  "kernelspec": {
   "display_name": "Python 3",
   "language": "python",
   "name": "python3"
  },
  "language_info": {
   "codemirror_mode": {
    "name": "ipython",
    "version": 3
   },
   "file_extension": ".py",
   "mimetype": "text/x-python",
   "name": "python",
   "nbconvert_exporter": "python",
   "pygments_lexer": "ipython3",
   "version": "3.6.1"
  }
 },
 "nbformat": 4,
 "nbformat_minor": 2
}
