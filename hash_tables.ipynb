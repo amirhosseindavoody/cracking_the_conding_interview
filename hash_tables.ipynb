{
 "cells": [
  {
   "cell_type": "markdown",
   "metadata": {},
   "source": [
    "# Notes\n",
    "\n",
    "## Hashing\n",
    "\n",
    "This refers to the process of converting a **key** into an index in a table by performing some simply computed operation on the **key**.\n",
    "\n",
    "## Hash Tables\n",
    "\n",
    "These are data structures that very efficiently map keys to values. When we use a *key* to look up *value* in a hash table, we convert the key into a **hash code** and then use the hash code to map to an index in the table. In other words, we use hashing go from string --> hashcode --> index in a hash table.\n",
    "\n",
    "## Advantages\n",
    "\n",
    "Hashing is really important because it allows you to map an infinite number of keys to some finite number of values. This means you can store your mapped values in a table that's significantly smaller than the number of potential keys or hash codes.\n",
    "\n",
    "## Disadvantages\n",
    "\n",
    "Because there are generally an infinite number of keys mapping to a finite number of hash codes, two distinct keys can map to the same table index. We call these keys **synonyms**, and we call the actual phenomenon of having multiple keys whose hash codes map to the same table index a **collision**. One way of dealing with this is something called **chaining** where we store each colliding *(key,value)* pair in a linked list located at their mapped index (i.e., **collision site**). It's important to store the key with the value, or you won't know which value in the list maps to which key.\n",
    "\n",
    "## Asymptotic Analysis: Inserting, Finding, and Deleting\n",
    "\n",
    "For a good hash table, this is $O(1)$ meaning a constant read and set time. For a terrible hashtable with a lot of collisions, this is $O(n)$."
   ]
  },
  {
   "cell_type": "markdown",
   "metadata": {},
   "source": [
    "# Problem: Ransom Note \n",
    "A kidnapper wrote a ransom note but is worried it will be traced back to him. He found a magazine and wants to know if he can cut out whole words from it and use them to create an untraceable replica of his ransom note. The words in his note are case-sensitive and he must use whole words available in the magazine, meaning he cannot use substrings or concatenation to create the words he needs.\n",
    "\n",
    "Given the words in the magazine and the words in the ransom note, print Yes if he can replicate his ransom note exactly using whole words from the magazine; otherwise, print No.\n",
    "\n",
    "## Input Format\n",
    "The first line contains two space-separated integers describing the respective values of $m$ (the number of words in the magazine) and $n$ (the number of words in the ransom note). \n",
    "The second line contains $m$ space-separated strings denoting the words present in the magazine. \n",
    "The third line contains $n$ space-separated strings denoting the words present in the ransom note.\n",
    "\n",
    "## Constraints\n",
    "* $1\\le m, n \\le 30000$.\n",
    "* $1\\le \\text{length of any word} \\le 5$.\n",
    "* Each word consists of English alphabetic letters (i.e., *a* to *z* and *A* to *Z*).\n",
    "* The words in the note and magazine are case-sensitive.\n",
    "\n",
    "## Output Format\n",
    "Print Yes if he can use the magazine to create an untraceable replica of his ransom note; otherwise, print No.\n",
    "\n",
    "## Sample Input 0\n",
    "```\n",
    "6 4\n",
    "give me one grand today night\n",
    "give one grand today\n",
    "```\n",
    "\n",
    "## Sample Output 0\n",
    "```\n",
    "Yes\n",
    "```\n",
    "\n",
    "## Sample Input 1\n",
    "```\n",
    "6 5\n",
    "two times three is not four\n",
    "two times two is four\n",
    "```\n",
    "\n",
    "## Sample Output 1\n",
    "```\n",
    "No\n",
    "```\n",
    "\n",
    "## Explanation 1\n",
    "two should occure 2 times in magazine"
   ]
  },
  {
   "cell_type": "code",
   "execution_count": 28,
   "metadata": {},
   "outputs": [
    {
     "name": "stdout",
     "output_type": "stream",
     "text": [
      "Yes\n"
     ]
    }
   ],
   "source": [
    "def ransom_note(magazine, ransom):\n",
    "    mwords={}\n",
    "    \n",
    "    for word in magazine:\n",
    "        if (word in mwords):\n",
    "            mwords[word] += 1\n",
    "        else:\n",
    "            mwords[word] = 1\n",
    "               \n",
    "    for word in ransom:\n",
    "        if (word in mwords):\n",
    "            mwords[word] -= 1\n",
    "            if (mwords[word] == 0):\n",
    "                del mwords[word]\n",
    "        else:\n",
    "            return False\n",
    "        \n",
    "    return True\n",
    "        \n",
    "\n",
    "# m, n = map(int, input().strip().split(' '))\n",
    "# magazine = input().strip().split(' ')\n",
    "# ransom = input().strip().split(' ')\n",
    "\n",
    "m,n = 6,4\n",
    "magazine = \"give me one grand today night night\"\n",
    "ransom = \"give one grand today\"\n",
    "magazine = magazine.strip().split(' ')\n",
    "ransom = ransom.strip().split(' ')\n",
    "\n",
    "answer = ransom_note(magazine, ransom)\n",
    "if(answer):\n",
    "    print(\"Yes\")\n",
    "else:\n",
    "    print(\"No\")"
   ]
  }
 ],
 "metadata": {
  "kernelspec": {
   "display_name": "Python 3",
   "language": "python",
   "name": "python3"
  },
  "language_info": {
   "codemirror_mode": {
    "name": "ipython",
    "version": 3
   },
   "file_extension": ".py",
   "mimetype": "text/x-python",
   "name": "python",
   "nbconvert_exporter": "python",
   "pygments_lexer": "ipython3",
   "version": "3.6.1"
  }
 },
 "nbformat": 4,
 "nbformat_minor": 2
}
