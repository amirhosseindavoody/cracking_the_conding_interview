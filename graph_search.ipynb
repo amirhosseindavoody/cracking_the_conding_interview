{
 "cells": [
  {
   "cell_type": "markdown",
   "metadata": {},
   "source": [
    "# Depth First Search (DFS):\n",
    "\n",
    "### Connected Cell in a Grid"
   ]
  },
  {
   "cell_type": "code",
   "execution_count": 4,
   "metadata": {},
   "outputs": [
    {
     "name": "stdout",
     "output_type": "stream",
     "text": [
      "[0, 1, 1, 1, 1]\n",
      "[1, 0, 0, 0, 1]\n",
      "[1, 1, 0, 1, 0]\n",
      "[0, 1, 0, 1, 1]\n",
      "[0, 1, 1, 1, 0]\n",
      "15\n"
     ]
    }
   ],
   "source": [
    "def inbound(grid_size,node):\n",
    "    if (node[0] < 0 or node[1] < 0):\n",
    "        return False\n",
    "    if (node[0] >= grid_size[0] or node[1] >= grid_size[1]):\n",
    "        return False\n",
    "    return True\n",
    "\n",
    "def get_point(grid,node):\n",
    "    return grid[node[0]][node[1]]\n",
    "\n",
    "def get_next_node(grid_size,node):\n",
    "    n = node[1] + 1\n",
    "    m = node[0]\n",
    "    if n >= grid_size[1]:\n",
    "        n = 0\n",
    "        m = node[0] + 1\n",
    "    return m,n,\n",
    "\n",
    "def neighbors(grid_size,node):\n",
    "    neighbor_list = list()\n",
    "    \n",
    "    neighbor = (node[0]+0, node[1]+1)\n",
    "    if inbound(grid_size,neighbor):\n",
    "        neighbor_list.append(neighbor)\n",
    "    neighbor = (node[0]+0, node[1]-1)\n",
    "    if inbound(grid_size,neighbor):\n",
    "        neighbor_list.append(neighbor)\n",
    "    neighbor = (node[0]+1, node[1]+0)\n",
    "    if inbound(grid_size,neighbor):\n",
    "        neighbor_list.append(neighbor)\n",
    "    neighbor = (node[0]-1, node[1]+0)\n",
    "    if inbound(grid_size,neighbor):\n",
    "        neighbor_list.append(neighbor)\n",
    "    neighbor = (node[0]+1, node[1]+1)\n",
    "    if inbound(grid_size,neighbor):\n",
    "        neighbor_list.append(neighbor)\n",
    "    neighbor = (node[0]+1, node[1]-1)\n",
    "    if inbound(grid_size,neighbor):\n",
    "        neighbor_list.append(neighbor)\n",
    "    neighbor = (node[0]-1, node[1]+1)\n",
    "    if inbound(grid_size,neighbor):\n",
    "        neighbor_list.append(neighbor)\n",
    "    neighbor = (node[0]-1, node[1]-1)\n",
    "    if inbound(grid_size,neighbor):\n",
    "        neighbor_list.append(neighbor)\n",
    "    return neighbor_list\n",
    "\n",
    "def get_island_size(grid,node,visited):\n",
    "    grid_size = (len(grid),len(grid[0]))\n",
    "    visited.add(node)\n",
    "    island_size = 1\n",
    "    for neighbor in neighbors(grid_size,node):\n",
    "        if (get_point(grid,neighbor) == 1) and (not (neighbor in visited)):\n",
    "            island_size += get_island_size(grid,neighbor,visited)\n",
    "            \n",
    "    return island_size\n",
    "\n",
    "def getBiggestRegion(grid):\n",
    "    visited = set()\n",
    "    islands = list()\n",
    "    grid_size = (len(grid),len(grid[0]))\n",
    "    node = (0,0,)\n",
    "    \n",
    "    while (inbound(grid_size,node)):\n",
    "        if (get_point(grid,node) == 0 or node in visited):\n",
    "            node = get_next_node(grid_size,node)\n",
    "        else:\n",
    "            size = get_island_size(grid,node,visited)\n",
    "            islands.append(size)\n",
    "    \n",
    "    return max(islands)\n",
    "\n",
    "contents = []\n",
    "with open('graph_search.in') as fp:\n",
    "    for line in fp:\n",
    "        contents.append(line)\n",
    "\n",
    "n = int(contents[0].strip())\n",
    "m = int(contents[1].strip())\n",
    "\n",
    "grid = []\n",
    "for grid_i in range(n):\n",
    "    grid_t = list(map(int, contents[grid_i+2].strip().split(' ')))\n",
    "    grid.append(grid_t)\n",
    "\n",
    "for grid_t in grid:\n",
    "    print(grid_t)\n",
    "\n",
    "print(getBiggestRegion(grid))"
   ]
  },
  {
   "cell_type": "code",
   "execution_count": null,
   "metadata": {
    "collapsed": true
   },
   "outputs": [],
   "source": []
  }
 ],
 "metadata": {
  "kernelspec": {
   "display_name": "Python 3",
   "language": "python",
   "name": "python3"
  },
  "language_info": {
   "codemirror_mode": {
    "name": "ipython",
    "version": 3
   },
   "file_extension": ".py",
   "mimetype": "text/x-python",
   "name": "python",
   "nbconvert_exporter": "python",
   "pygments_lexer": "ipython3",
   "version": "3.6.2"
  }
 },
 "nbformat": 4,
 "nbformat_minor": 2
}
