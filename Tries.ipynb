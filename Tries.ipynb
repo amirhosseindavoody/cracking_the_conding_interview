{
 "cells": [
  {
   "cell_type": "markdown",
   "metadata": {},
   "source": [
    "# Problem\n",
    "Create a program that has command <br>    ```add contactName``` <br> to add a contact name to the data base and has another command <br>     ```find partialContactName``` <br> that outputs the number of contacts that have their names partially match with the input."
   ]
  },
  {
   "cell_type": "code",
   "execution_count": 16,
   "metadata": {},
   "outputs": [
    {
     "name": "stdout",
     "output_type": "stream",
     "text": [
      "4\n",
      "add hack\n",
      "add hackerrank\n",
      "find hac\n",
      "2\n",
      "find hak\n",
      "0\n"
     ]
    }
   ],
   "source": [
    "def traverse(node):\n",
    "    if node.value == None:\n",
    "        return 1\n",
    "    i=0\n",
    "    for child in node.childs:\n",
    "        i += traverse(child)\n",
    "    return i\n",
    "\n",
    "class Node:\n",
    "    def __init__(self,value):\n",
    "        self.value = value\n",
    "        self.childs = []\n",
    "        self.num = 1\n",
    "    \n",
    "    def add_child(self,value):\n",
    "        self.childs.append(Node(value))\n",
    "    \n",
    "    def find_add(self,c):\n",
    "        for node in self.childs:\n",
    "            if (c==node.value):\n",
    "                node.num += 1\n",
    "                return node\n",
    "        self.add_child(c)\n",
    "        return self.childs[-1]\n",
    "    \n",
    "    def find(self,c):\n",
    "        for node in self.childs:\n",
    "            if (c==node.value):\n",
    "                return node\n",
    "        return None\n",
    "    \n",
    "class Tree:\n",
    "    def __init__(self):\n",
    "        self.head = Node(None)\n",
    "    \n",
    "    def add(self,contact):\n",
    "        cnode = self.head\n",
    "        for c in contact:\n",
    "            cnode = cnode.find_add(c)\n",
    "        cnode.add_child(None)\n",
    "    \n",
    "    def count(self,partial):\n",
    "        cnode = self.head\n",
    "        for c in partial:\n",
    "            cnode = cnode.find(c)\n",
    "            if cnode == None:\n",
    "                return 0\n",
    "        return cnode.num\n",
    "            \n",
    "                        \n",
    "        \n",
    "\n",
    "        \n",
    "mtree = Tree()\n",
    "\n",
    "n = int(input().strip())\n",
    "for a0 in range(n):\n",
    "    op, contact = input().strip().split(' ')\n",
    "    if op == 'add':\n",
    "        mtree.add(contact)\n",
    "    if op == 'find':\n",
    "        print(mtree.count(contact))"
   ]
  },
  {
   "cell_type": "code",
   "execution_count": null,
   "metadata": {
    "collapsed": true
   },
   "outputs": [],
   "source": []
  }
 ],
 "metadata": {
  "kernelspec": {
   "display_name": "Python 3",
   "language": "python",
   "name": "python3"
  },
  "language_info": {
   "codemirror_mode": {
    "name": "ipython",
    "version": 3
   },
   "file_extension": ".py",
   "mimetype": "text/x-python",
   "name": "python",
   "nbconvert_exporter": "python",
   "pygments_lexer": "ipython3",
   "version": "3.6.1"
  }
 },
 "nbformat": 4,
 "nbformat_minor": 2
}
