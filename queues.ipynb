{
 "cells": [
  {
   "cell_type": "code",
   "execution_count": 3,
   "metadata": {},
   "outputs": [
    {
     "name": "stdout",
     "output_type": "stream",
     "text": [
      "1\n",
      "3\n",
      "None\n"
     ]
    }
   ],
   "source": [
    "class Node:\n",
    "    def __init__(self,data = 0,next = None):\n",
    "        self.data = data\n",
    "        self.next = next\n",
    "        \n",
    "\n",
    "class MyQueue(object):\n",
    "    \n",
    "    def __init__(self):\n",
    "        self.head = None\n",
    "        self.tail = None\n",
    "    \n",
    "    def peek(self):\n",
    "        if (self.head!=None):\n",
    "            return self.head.data\n",
    "        \n",
    "    def pop(self):\n",
    "        m_node = self.head\n",
    "        if(self.head!=None):\n",
    "            self.head = self.head.next\n",
    "        return m_node\n",
    "        \n",
    "    def put(self, value):\n",
    "        if (self.tail != None):\n",
    "            self.tail.next = Node(value,None)\n",
    "            self.tail = self.tail.next\n",
    "        else:\n",
    "            self.tail = Node(value,None)\n",
    "        if (self.head == None):\n",
    "            self.head = self.tail\n",
    "        \n",
    "\n",
    "queue = MyQueue()\n",
    "t = int(input())\n",
    "for line in range(t):\n",
    "    values = map(int, input().split())\n",
    "    values = list(values)\n",
    "    if values[0] == 1:\n",
    "        queue.put(values[1])        \n",
    "    elif values[0] == 2:\n",
    "        queue.pop()\n",
    "    else:\n",
    "        print(queue.peek())"
   ]
  }
 ],
 "metadata": {
  "kernelspec": {
   "display_name": "Python 3",
   "language": "python",
   "name": "python3"
  },
  "language_info": {
   "codemirror_mode": {
    "name": "ipython",
    "version": 3
   },
   "file_extension": ".py",
   "mimetype": "text/x-python",
   "name": "python",
   "nbconvert_exporter": "python",
   "pygments_lexer": "ipython3",
   "version": "3.6.1"
  }
 },
 "nbformat": 4,
 "nbformat_minor": 2
}
