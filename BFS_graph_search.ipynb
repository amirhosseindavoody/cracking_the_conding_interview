{
 "cells": [
  {
   "cell_type": "markdown",
   "metadata": {},
   "source": [
    "# Breath first search:\n",
    "### Shortest Reach in a Graph"
   ]
  },
  {
   "cell_type": "code",
   "execution_count": 3,
   "metadata": {
    "collapsed": true
   },
   "outputs": [],
   "source": [
    "class Queue:\n",
    "    def __init__(self):\n",
    "        self.items = []\n",
    "\n",
    "    def isEmpty(self):\n",
    "        return self.items == []\n",
    "\n",
    "    def enqueue(self, item):\n",
    "        self.items.insert(0,item)\n",
    "\n",
    "    def dequeue(self):\n",
    "        return self.items.pop()\n",
    "\n",
    "    def size(self):\n",
    "        return len(self.items)"
   ]
  },
  {
   "cell_type": "code",
   "execution_count": 4,
   "metadata": {
    "collapsed": true
   },
   "outputs": [],
   "source": [
    "class Node:\n",
    "    def __init__(self):\n",
    "        self.neighbors = set()\n",
    "        self.distance = 0\n",
    "    def __repr__(self):\n",
    "        return (\"Node with %s neighbors\" % len(self.neighbors))\n",
    "    def create_neighbor(self,neighbor):\n",
    "        self.neighbors.add(neighbor)"
   ]
  },
  {
   "cell_type": "code",
   "execution_count": 8,
   "metadata": {},
   "outputs": [],
   "source": [
    "class Graph:\n",
    "    def __init__(self,n):\n",
    "        self.nodes = [Node() for count in range(n)]\n",
    "    def connect(self,node1,node2):\n",
    "        self.nodes[node1].create_neighbor(node2)\n",
    "        self.nodes[node2].create_neighbor(node1)\n",
    "    def find_all_distances(self,start_node):\n",
    "        visited = set()\n",
    "        queue = Queue()\n",
    "        distances = [-1 for count in range(len(self.nodes))]\n",
    "        queue.enqueue(start_node)\n",
    "        visited.add(start_node)\n",
    "        while (not queue.isEmpty()):\n",
    "            node = queue.dequeue()\n",
    "            distances[node] = self.nodes[node].distance               \n",
    "            for next_node in self.nodes[node].neighbors:\n",
    "                if next_node not in visited:\n",
    "                    visited.add(next_node)\n",
    "                    queue.enqueue(next_node)\n",
    "                    self.nodes[next_node].distance = self.nodes[node].distance + 6\n",
    "        return distances[:start_node]+distances[start_node+1:]\n",
    "        "
   ]
  },
  {
   "cell_type": "code",
   "execution_count": 10,
   "metadata": {},
   "outputs": [
    {
     "name": "stdout",
     "output_type": "stream",
     "text": [
      "n =  70\n",
      "m =  1988\n",
      "s =  16\n",
      "start node =  15\n",
      "6  6  6  6  12  6  12  6  12  12  6  6  6  6  6  0  12  12  6  6  6  6  12  6  12  6  12  6  12  12  12  12  6  12  12  6  12  12  6  12  6  12  6  12  12  6  6  12  6  6  6  6  12  12  12  12  6  6  6  12  6  6  12  12  12  12  12  12  6  6  \n"
     ]
    }
   ],
   "source": [
    "contents = []\n",
    "with open(\"bfs_graph_search.in\") as fs:\n",
    "    for line in fs:\n",
    "        contents.append(line)\n",
    "        \n",
    "t = int(contents[0])\n",
    "nline = 0\n",
    "for i in range(t):\n",
    "    nline += 1\n",
    "    n,m = [int(value) for value in contents[nline].split()]\n",
    "    print(\"n = \", n)\n",
    "    print(\"m = \", m)\n",
    "    graph = Graph(n)\n",
    "    for j in range(m):\n",
    "        nline += 1\n",
    "        x,y = [int(x) for x in contents[nline].split()]\n",
    "        graph.connect(x-1,y-1)\n",
    "    nline += 1\n",
    "    s = int(contents[nline])\n",
    "    print(\"s = \", s)\n",
    "    distances = graph.find_all_distances(s-1)\n",
    "    \n",
    "    for distance in distances:\n",
    "        print(distance, \" \", end=\"\")\n",
    "    print()"
   ]
  },
  {
   "cell_type": "code",
   "execution_count": null,
   "metadata": {
    "collapsed": true
   },
   "outputs": [],
   "source": []
  }
 ],
 "metadata": {
  "kernelspec": {
   "display_name": "Python 3",
   "language": "python",
   "name": "python3"
  },
  "language_info": {
   "codemirror_mode": {
    "name": "ipython",
    "version": 3
   },
   "file_extension": ".py",
   "mimetype": "text/x-python",
   "name": "python",
   "nbconvert_exporter": "python",
   "pygments_lexer": "ipython3",
   "version": "3.6.2"
  }
 },
 "nbformat": 4,
 "nbformat_minor": 2
}
