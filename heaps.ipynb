{
 "cells": [
  {
   "cell_type": "code",
   "execution_count": 10,
   "metadata": {},
   "outputs": [
    {
     "name": "stdout",
     "output_type": "stream",
     "text": [
      "[10]\n",
      "10 5\n",
      "5 10\n"
     ]
    }
   ],
   "source": [
    "#!/bin/python3\n",
    "import sys\n",
    "\n",
    "class Node:\n",
    "    def __init__(self,data=None):\n",
    "        self.data = data\n",
    "\n",
    "def parent_index(i):\n",
    "    return int((i-1)/2)\n",
    "def left_child_index(i):\n",
    "    return 2*i+1\n",
    "def right_child_index(i):\n",
    "    return 2*i+2\n",
    "        \n",
    "class Heap:\n",
    "    def __init__(self):\n",
    "        self.list=list()\n",
    "    def append(self,data):\n",
    "        self.list.append(data)\n",
    "        i = len(self.list)-1\n",
    "        if(self.list[i] < self.list[parent_index(i)]):\n",
    "            self.list[i], self.list[parent_index(i)] = self.list[parent_index(i)], self.list[i]\n",
    "    \n",
    "heap = Heap()\n",
    "heap.append(10)\n",
    "print(heap.list)\n",
    "\n",
    "a = 10\n",
    "b = 5\n",
    "# print(a,b)\n",
    "swap(a,b)\n",
    "# print(a,b)\n",
    "\n",
    "# n = int(input().strip())\n",
    "# a = []\n",
    "# a_i = 0\n",
    "# for a_i in range(n):\n",
    "#    a_t = int(input().strip())\n",
    "#    a.append(a_t)"
   ]
  }
 ],
 "metadata": {
  "kernelspec": {
   "display_name": "Python 3",
   "language": "python",
   "name": "python3"
  },
  "language_info": {
   "codemirror_mode": {
    "name": "ipython",
    "version": 3
   },
   "file_extension": ".py",
   "mimetype": "text/x-python",
   "name": "python",
   "nbconvert_exporter": "python",
   "pygments_lexer": "ipython3",
   "version": "3.6.1"
  }
 },
 "nbformat": 4,
 "nbformat_minor": 2
}
