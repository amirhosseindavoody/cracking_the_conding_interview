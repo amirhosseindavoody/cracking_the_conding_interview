{
 "cells": [
  {
   "cell_type": "code",
   "execution_count": 26,
   "metadata": {
    "slideshow": {
     "slide_type": "-"
    }
   },
   "outputs": [
    {
     "name": "stdout",
     "output_type": "stream",
     "text": [
      "NO\n"
     ]
    }
   ],
   "source": [
    "def is_matched(expression):\n",
    "    d = {\"]\" : \"[\", \"}\" : \"{\", \")\" : \"(\"}\n",
    "    left = {\"[\",\"{\",\"(\"}\n",
    "    right = {\"]\",\"}\",\")\"}\n",
    "    l=[]\n",
    "    last=[]\n",
    "    for i in expression:\n",
    "        if i in left:\n",
    "            l.append(i)\n",
    "        if (i in right):\n",
    "            if (not l):\n",
    "                return False\n",
    "            o=l.pop()\n",
    "            if (d[i]!=o):\n",
    "                return False\n",
    "        \n",
    "    if (l):\n",
    "        return False\n",
    "    \n",
    "    return True\n",
    "\n",
    "# t = int(input().strip())\n",
    "t=1\n",
    "\n",
    "for a0 in range(t):\n",
    "#     expression = input().strip('')\n",
    "    expression = \"}{[(])}\"\n",
    "    expression = expression.strip()\n",
    "    if is_matched(expression) == True:\n",
    "        print(\"YES\")\n",
    "    else:\n",
    "        print(\"NO\")"
   ]
  }
 ],
 "metadata": {
  "kernelspec": {
   "display_name": "Python 3",
   "language": "python",
   "name": "python3"
  },
  "language_info": {
   "codemirror_mode": {
    "name": "ipython",
    "version": 3
   },
   "file_extension": ".py",
   "mimetype": "text/x-python",
   "name": "python",
   "nbconvert_exporter": "python",
   "pygments_lexer": "ipython3",
   "version": "3.6.1"
  }
 },
 "nbformat": 4,
 "nbformat_minor": 2
}
